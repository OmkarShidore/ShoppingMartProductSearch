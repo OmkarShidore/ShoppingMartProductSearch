{
 "cells": [
  {
   "cell_type": "code",
   "execution_count": 1,
   "metadata": {},
   "outputs": [],
   "source": [
    "import os\n",
    "import cv2\n",
    "import pandas as pd"
   ]
  },
  {
   "cell_type": "code",
   "execution_count": 62,
   "metadata": {},
   "outputs": [],
   "source": [
    "product_data_dir = \"../data/product_detection_from_packshots/product_images\"\n",
    "prodcut_images_path_list = []\n",
    "for i in range(1,301):\n",
    "    path = f\"{product_data_dir}/qr{i}.jpg\"\n",
    "    if not os.path.exists(path):\n",
    "        \n",
    "        print(f\"path not found: {path}\")\n",
    "    else:\n",
    "        prodcut_images_path_list.append(path)"
   ]
  },
  {
   "cell_type": "code",
   "execution_count": 63,
   "metadata": {},
   "outputs": [],
   "source": [
    "# df = pd.DataFrame(columns=[\"path\", \"height\", \"width\", \"cls\"])\n",
    "# counter = 0\n",
    "# classes = 0\n",
    "# for image_path in prodcut_images_path_list:\n",
    "#     counter+=1\n",
    "#     image = cv2.imread(image_path)\n",
    "#     df = pd.concat([df, pd.DataFrame(data=[[image_path, image.shape[0], image.shape[1], classes]], columns=[\"path\", \"height\", \"width\", \"cls\"])])\n",
    "#     if counter%3 == 0:\n",
    "#         classes += 1\n",
    "#         counter = 0\n",
    "\n",
    "\n",
    "# def im_show(idx):\n",
    "#     path = df.at[0, \"path\"].iloc[idx]\n",
    "#     cls = df.at[0, 'cls'].iloc[idx]\n",
    "#     img = cv2.imread(path)\n",
    " \n",
    "#     cv2.imshow(f'cls: {cls} | idx: {idx}',img)\n",
    "    \n",
    "#     cv2.waitKey(0)\n",
    "#     cv2.destroyAllWindows()"
   ]
  },
  {
   "cell_type": "code",
   "execution_count": 109,
   "metadata": {},
   "outputs": [],
   "source": [
    "df = pd.DataFrame(columns=[\"path\", \"height\", \"width\"])\n",
    "for image_path in prodcut_images_path_list:\n",
    "    image = cv2.imread(image_path)\n",
    "    df = pd.concat([df, pd.DataFrame(data=[[image_path, image.shape[0], image.shape[1]]], columns=[\"path\", \"height\", \"width\"])])"
   ]
  },
  {
   "cell_type": "code",
   "execution_count": 110,
   "metadata": {},
   "outputs": [
    {
     "data": {
      "text/html": [
       "<div>\n",
       "<style scoped>\n",
       "    .dataframe tbody tr th:only-of-type {\n",
       "        vertical-align: middle;\n",
       "    }\n",
       "\n",
       "    .dataframe tbody tr th {\n",
       "        vertical-align: top;\n",
       "    }\n",
       "\n",
       "    .dataframe thead th {\n",
       "        text-align: right;\n",
       "    }\n",
       "</style>\n",
       "<table border=\"1\" class=\"dataframe\">\n",
       "  <thead>\n",
       "    <tr style=\"text-align: right;\">\n",
       "      <th></th>\n",
       "      <th>path</th>\n",
       "      <th>height</th>\n",
       "      <th>width</th>\n",
       "    </tr>\n",
       "  </thead>\n",
       "  <tbody>\n",
       "    <tr>\n",
       "      <th>0</th>\n",
       "      <td>../data/product_detection_from_packshots/produ...</td>\n",
       "      <td>1704</td>\n",
       "      <td>2272</td>\n",
       "    </tr>\n",
       "    <tr>\n",
       "      <th>0</th>\n",
       "      <td>../data/product_detection_from_packshots/produ...</td>\n",
       "      <td>1704</td>\n",
       "      <td>2272</td>\n",
       "    </tr>\n",
       "    <tr>\n",
       "      <th>0</th>\n",
       "      <td>../data/product_detection_from_packshots/produ...</td>\n",
       "      <td>1704</td>\n",
       "      <td>2272</td>\n",
       "    </tr>\n",
       "    <tr>\n",
       "      <th>0</th>\n",
       "      <td>../data/product_detection_from_packshots/produ...</td>\n",
       "      <td>1704</td>\n",
       "      <td>2272</td>\n",
       "    </tr>\n",
       "    <tr>\n",
       "      <th>0</th>\n",
       "      <td>../data/product_detection_from_packshots/produ...</td>\n",
       "      <td>1704</td>\n",
       "      <td>2272</td>\n",
       "    </tr>\n",
       "    <tr>\n",
       "      <th>0</th>\n",
       "      <td>../data/product_detection_from_packshots/produ...</td>\n",
       "      <td>1704</td>\n",
       "      <td>2272</td>\n",
       "    </tr>\n",
       "    <tr>\n",
       "      <th>0</th>\n",
       "      <td>../data/product_detection_from_packshots/produ...</td>\n",
       "      <td>1704</td>\n",
       "      <td>2272</td>\n",
       "    </tr>\n",
       "    <tr>\n",
       "      <th>0</th>\n",
       "      <td>../data/product_detection_from_packshots/produ...</td>\n",
       "      <td>1704</td>\n",
       "      <td>2272</td>\n",
       "    </tr>\n",
       "    <tr>\n",
       "      <th>0</th>\n",
       "      <td>../data/product_detection_from_packshots/produ...</td>\n",
       "      <td>1704</td>\n",
       "      <td>2272</td>\n",
       "    </tr>\n",
       "    <tr>\n",
       "      <th>0</th>\n",
       "      <td>../data/product_detection_from_packshots/produ...</td>\n",
       "      <td>1704</td>\n",
       "      <td>2272</td>\n",
       "    </tr>\n",
       "  </tbody>\n",
       "</table>\n",
       "</div>"
      ],
      "text/plain": [
       "                                                path height width\n",
       "0  ../data/product_detection_from_packshots/produ...   1704  2272\n",
       "0  ../data/product_detection_from_packshots/produ...   1704  2272\n",
       "0  ../data/product_detection_from_packshots/produ...   1704  2272\n",
       "0  ../data/product_detection_from_packshots/produ...   1704  2272\n",
       "0  ../data/product_detection_from_packshots/produ...   1704  2272\n",
       "0  ../data/product_detection_from_packshots/produ...   1704  2272\n",
       "0  ../data/product_detection_from_packshots/produ...   1704  2272\n",
       "0  ../data/product_detection_from_packshots/produ...   1704  2272\n",
       "0  ../data/product_detection_from_packshots/produ...   1704  2272\n",
       "0  ../data/product_detection_from_packshots/produ...   1704  2272"
      ]
     },
     "execution_count": 110,
     "metadata": {},
     "output_type": "execute_result"
    }
   ],
   "source": [
    "df.head(10)"
   ]
  },
  {
   "cell_type": "code",
   "execution_count": 60,
   "metadata": {},
   "outputs": [],
   "source": []
  },
  {
   "cell_type": "code",
   "execution_count": null,
   "metadata": {},
   "outputs": [],
   "source": []
  }
 ],
 "metadata": {
  "kernelspec": {
   "display_name": "torch1",
   "language": "python",
   "name": "python3"
  },
  "language_info": {
   "codemirror_mode": {
    "name": "ipython",
    "version": 3
   },
   "file_extension": ".py",
   "mimetype": "text/x-python",
   "name": "python",
   "nbconvert_exporter": "python",
   "pygments_lexer": "ipython3",
   "version": "3.10.11"
  },
  "orig_nbformat": 4
 },
 "nbformat": 4,
 "nbformat_minor": 2
}
